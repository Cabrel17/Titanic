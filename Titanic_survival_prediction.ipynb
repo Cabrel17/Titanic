{
 "cells": [
  {
   "cell_type": "markdown",
   "metadata": {},
   "source": [
    "# Titanic"
   ]
  },
  {
   "cell_type": "markdown",
   "metadata": {},
   "source": [
    "##### Context\n",
    "The aim of this project is to predict the survival on the Titanic."
   ]
  },
  {
   "cell_type": "markdown",
   "metadata": {},
   "source": [
    "##### Importing"
   ]
  },
  {
   "cell_type": "code",
   "execution_count": 1,
   "metadata": {},
   "outputs": [],
   "source": [
    "# import libraries\n",
    "\n",
    "import pandas as pd\n",
    "import numpy as np\n",
    "import matplotlib.pyplot as plt\n",
    "import seaborn as sns\n",
    "import warnings\n",
    "from sklearn import linear_model\n",
    "from sklearn import ensemble\n",
    "from sklearn import neighbors\n",
    "from sklearn import svm\n",
    "from sklearn import tree \n",
    "from sklearn.preprocessing import StandardScaler, OneHotEncoder\n",
    "from sklearn.pipeline import Pipeline\n",
    "from sklearn.compose import ColumnTransformer\n",
    "from sklearn.metrics import accuracy_score, confusion_matrix\n",
    "from sklearn.model_selection import train_test_split, GridSearchCV, cross_val_score\n",
    "from xgboost import XGBClassifier\n",
    "warnings.filterwarnings(\"ignore\")"
   ]
  },
  {
   "cell_type": "code",
   "execution_count": 2,
   "metadata": {},
   "outputs": [
    {
     "name": "stdout",
     "output_type": "stream",
     "text": [
      "train_shape: (891, 11)\n",
      "test_shape: (418, 10)\n",
      "<class 'pandas.core.frame.DataFrame'>\n",
      "Index: 1309 entries, 1 to 1309\n",
      "Data columns (total 11 columns):\n",
      " #   Column    Non-Null Count  Dtype  \n",
      "---  ------    --------------  -----  \n",
      " 0   Survived  891 non-null    float64\n",
      " 1   Pclass    1309 non-null   int64  \n",
      " 2   Name      1309 non-null   object \n",
      " 3   Sex       1309 non-null   object \n",
      " 4   Age       1046 non-null   float64\n",
      " 5   SibSp     1309 non-null   int64  \n",
      " 6   Parch     1309 non-null   int64  \n",
      " 7   Ticket    1309 non-null   object \n",
      " 8   Fare      1308 non-null   float64\n",
      " 9   Cabin     295 non-null    object \n",
      " 10  Embarked  1307 non-null   object \n",
      "dtypes: float64(3), int64(3), object(5)\n",
      "memory usage: 122.7+ KB\n"
     ]
    },
    {
     "data": {
      "text/html": [
       "<div>\n",
       "<style scoped>\n",
       "    .dataframe tbody tr th:only-of-type {\n",
       "        vertical-align: middle;\n",
       "    }\n",
       "\n",
       "    .dataframe tbody tr th {\n",
       "        vertical-align: top;\n",
       "    }\n",
       "\n",
       "    .dataframe thead th {\n",
       "        text-align: right;\n",
       "    }\n",
       "</style>\n",
       "<table border=\"1\" class=\"dataframe\">\n",
       "  <thead>\n",
       "    <tr style=\"text-align: right;\">\n",
       "      <th></th>\n",
       "      <th>Survived</th>\n",
       "      <th>Pclass</th>\n",
       "      <th>Name</th>\n",
       "      <th>Sex</th>\n",
       "      <th>Age</th>\n",
       "      <th>SibSp</th>\n",
       "      <th>Parch</th>\n",
       "      <th>Ticket</th>\n",
       "      <th>Fare</th>\n",
       "      <th>Cabin</th>\n",
       "      <th>Embarked</th>\n",
       "    </tr>\n",
       "    <tr>\n",
       "      <th>PassengerId</th>\n",
       "      <th></th>\n",
       "      <th></th>\n",
       "      <th></th>\n",
       "      <th></th>\n",
       "      <th></th>\n",
       "      <th></th>\n",
       "      <th></th>\n",
       "      <th></th>\n",
       "      <th></th>\n",
       "      <th></th>\n",
       "      <th></th>\n",
       "    </tr>\n",
       "  </thead>\n",
       "  <tbody>\n",
       "    <tr>\n",
       "      <th>1119</th>\n",
       "      <td>NaN</td>\n",
       "      <td>3</td>\n",
       "      <td>McNeill, Miss. Bridget</td>\n",
       "      <td>female</td>\n",
       "      <td>NaN</td>\n",
       "      <td>0</td>\n",
       "      <td>0</td>\n",
       "      <td>370368</td>\n",
       "      <td>7.7500</td>\n",
       "      <td>NaN</td>\n",
       "      <td>Q</td>\n",
       "    </tr>\n",
       "    <tr>\n",
       "      <th>53</th>\n",
       "      <td>1.0</td>\n",
       "      <td>1</td>\n",
       "      <td>Harper, Mrs. Henry Sleeper (Myna Haxtun)</td>\n",
       "      <td>female</td>\n",
       "      <td>49.0</td>\n",
       "      <td>1</td>\n",
       "      <td>0</td>\n",
       "      <td>PC 17572</td>\n",
       "      <td>76.7292</td>\n",
       "      <td>D33</td>\n",
       "      <td>C</td>\n",
       "    </tr>\n",
       "    <tr>\n",
       "      <th>128</th>\n",
       "      <td>1.0</td>\n",
       "      <td>3</td>\n",
       "      <td>Madsen, Mr. Fridtjof Arne</td>\n",
       "      <td>male</td>\n",
       "      <td>24.0</td>\n",
       "      <td>0</td>\n",
       "      <td>0</td>\n",
       "      <td>C 17369</td>\n",
       "      <td>7.1417</td>\n",
       "      <td>NaN</td>\n",
       "      <td>S</td>\n",
       "    </tr>\n",
       "    <tr>\n",
       "      <th>830</th>\n",
       "      <td>1.0</td>\n",
       "      <td>1</td>\n",
       "      <td>Stone, Mrs. George Nelson (Martha Evelyn)</td>\n",
       "      <td>female</td>\n",
       "      <td>62.0</td>\n",
       "      <td>0</td>\n",
       "      <td>0</td>\n",
       "      <td>113572</td>\n",
       "      <td>80.0000</td>\n",
       "      <td>B28</td>\n",
       "      <td>NaN</td>\n",
       "    </tr>\n",
       "    <tr>\n",
       "      <th>501</th>\n",
       "      <td>0.0</td>\n",
       "      <td>3</td>\n",
       "      <td>Calic, Mr. Petar</td>\n",
       "      <td>male</td>\n",
       "      <td>17.0</td>\n",
       "      <td>0</td>\n",
       "      <td>0</td>\n",
       "      <td>315086</td>\n",
       "      <td>8.6625</td>\n",
       "      <td>NaN</td>\n",
       "      <td>S</td>\n",
       "    </tr>\n",
       "  </tbody>\n",
       "</table>\n",
       "</div>"
      ],
      "text/plain": [
       "             Survived  Pclass                                       Name  \\\n",
       "PassengerId                                                                \n",
       "1119              NaN       3                     McNeill, Miss. Bridget   \n",
       "53                1.0       1   Harper, Mrs. Henry Sleeper (Myna Haxtun)   \n",
       "128               1.0       3                  Madsen, Mr. Fridtjof Arne   \n",
       "830               1.0       1  Stone, Mrs. George Nelson (Martha Evelyn)   \n",
       "501               0.0       3                           Calic, Mr. Petar   \n",
       "\n",
       "                Sex   Age  SibSp  Parch    Ticket     Fare Cabin Embarked  \n",
       "PassengerId                                                                \n",
       "1119         female   NaN      0      0    370368   7.7500   NaN        Q  \n",
       "53           female  49.0      1      0  PC 17572  76.7292   D33        C  \n",
       "128            male  24.0      0      0   C 17369   7.1417   NaN        S  \n",
       "830          female  62.0      0      0    113572  80.0000   B28      NaN  \n",
       "501            male  17.0      0      0    315086   8.6625   NaN        S  "
      ]
     },
     "execution_count": 2,
     "metadata": {},
     "output_type": "execute_result"
    }
   ],
   "source": [
    "# import data\n",
    "\n",
    "train = pd.read_csv(\"train.csv\", index_col=\"PassengerId\")\n",
    "test = pd.read_csv(\"test.csv\", index_col=\"PassengerId\")\n",
    "df = pd.concat([train, test])\n",
    "print(\"train_shape:\", train.shape)\n",
    "print(\"test_shape:\", test.shape)\n",
    "df.info()\n",
    "df.sample(5)"
   ]
  },
  {
   "cell_type": "markdown",
   "metadata": {},
   "source": [
    "##### Pre-processing"
   ]
  },
  {
   "cell_type": "code",
   "execution_count": 3,
   "metadata": {},
   "outputs": [
    {
     "name": "stdout",
     "output_type": "stream",
     "text": [
      "Survived     418\n",
      "Pclass         0\n",
      "Name           0\n",
      "Sex            0\n",
      "Age          263\n",
      "SibSp          0\n",
      "Parch          0\n",
      "Ticket         0\n",
      "Fare           1\n",
      "Cabin       1014\n",
      "Embarked       2\n",
      "dtype: int64\n",
      "\n",
      " Percentage loading -----\n"
     ]
    },
    {
     "data": {
      "text/plain": [
       "Survived    31.932773\n",
       "Pclass       0.000000\n",
       "Name         0.000000\n",
       "Sex          0.000000\n",
       "Age         20.091673\n",
       "SibSp        0.000000\n",
       "Parch        0.000000\n",
       "Ticket       0.000000\n",
       "Fare         0.076394\n",
       "Cabin       77.463713\n",
       "Embarked     0.152788\n",
       "dtype: float64"
      ]
     },
     "execution_count": 3,
     "metadata": {},
     "output_type": "execute_result"
    }
   ],
   "source": [
    "# Percentage of missing values in the dataset\n",
    "\n",
    "print(df.isna().sum())\n",
    "print(\"\\n\",\"Percentage loading -----\")\n",
    "(df.isna().sum() / df.shape[0]) * 100\n",
    "\n",
    "# We have a high percentage of missing values for \"Cabin\" variable. We cannot keep this variable for modelling.\n",
    "# We are going drop it.\n",
    "# Variables \"Age\", \"Fare\", \"Cabin\" will be inputed."
   ]
  },
  {
   "cell_type": "code",
   "execution_count": 4,
   "metadata": {},
   "outputs": [],
   "source": [
    "# Imputing of \"Age\" variable\n",
    "# We are going inpute with the median of the categorie (male, female).\n",
    "for i in df[\"Sex\"].unique():\n",
    "    if i == \"male\":\n",
    "        df[\"Age\"].fillna(df.groupby(\"Sex\")[\"Age\"].median().loc[\"male\"], inplace=True)\n",
    "    else:\n",
    "        df[\"Age\"].fillna(df.groupby(\"Sex\")[\"Age\"].median().loc[\"female\"], inplace=True)"
   ]
  },
  {
   "cell_type": "code",
   "execution_count": 5,
   "metadata": {},
   "outputs": [],
   "source": [
    "# Removing of \"Cabin\" variable\n",
    "df.drop(columns='Cabin', inplace=True)\n",
    "\n",
    "# removing missing values for \"Embarked\" variable\n",
    "df.dropna(subset=[\"Embarked\"], inplace=True)"
   ]
  },
  {
   "cell_type": "code",
   "execution_count": 6,
   "metadata": {},
   "outputs": [],
   "source": [
    "# Imputation of \"Fare\" variable\n",
    "\n",
    "for i in df[\"Embarked\"].unique():\n",
    "    if i == \"S\":\n",
    "        df[\"Fare\"].fillna(df.groupby(\"Embarked\")[\"Fare\"].mean().loc[\"S\"], inplace=True)\n",
    "    elif i == \"C\":\n",
    "        df[\"Fare\"].fillna(df.groupby(\"Embarked\")[\"Fare\"].mean().loc[\"C\"], inplace=True)\n",
    "    else:\n",
    "        df[\"Fare\"].fillna(df.groupby(\"Embarked\")[\"Fare\"].mean().loc[\"Q\"], inplace=True)"
   ]
  },
  {
   "cell_type": "code",
   "execution_count": 7,
   "metadata": {},
   "outputs": [],
   "source": [
    "# Transformation of \"Pclass\" variable in object type\n",
    "df[\"Pclass\"] = df[\"Pclass\"].astype(\"object\")"
   ]
  },
  {
   "cell_type": "code",
   "execution_count": 8,
   "metadata": {},
   "outputs": [
    {
     "data": {
      "text/plain": [
       "Title\n",
       "Mr              757\n",
       "Miss            259\n",
       "Mrs             196\n",
       "Master           61\n",
       "Rev               8\n",
       "Dr                8\n",
       "Col               4\n",
       "Mlle              2\n",
       "Major             2\n",
       "Ms                2\n",
       "Lady              1\n",
       "Sir               1\n",
       "Mme               1\n",
       "Don               1\n",
       "Capt              1\n",
       "the Countess      1\n",
       "Jonkheer          1\n",
       "Dona              1\n",
       "Name: count, dtype: int64"
      ]
     },
     "execution_count": 8,
     "metadata": {},
     "output_type": "execute_result"
    }
   ],
   "source": [
    "# Extracting title from name \n",
    "df[\"Title\"] = df[\"Name\"].str.split(\", \",expand=True)[1].str.split(\".\",expand=True)[0]\n",
    "df[\"Title\"].value_counts()"
   ]
  },
  {
   "cell_type": "code",
   "execution_count": 9,
   "metadata": {},
   "outputs": [
    {
     "data": {
      "text/plain": [
       "Title\n",
       "Mr        757\n",
       "Miss      259\n",
       "Mrs       196\n",
       "Master     61\n",
       "Other      34\n",
       "Name: count, dtype: int64"
      ]
     },
     "execution_count": 9,
     "metadata": {},
     "output_type": "execute_result"
    }
   ],
   "source": [
    "# Replace some modalities by \"Other\"\n",
    "df[\"Title\"].replace([\"Rev\", \"Dr\", \"Col\", \"Mlle\", \"Major\",\"Ms\", \"Lady\", \"Sir\", \"Mme\",\n",
    "                     \"Don\", \"Capt\", \"the Countess\", \"Jonkheer\", \"Dona\"],\"Other\", inplace=True)\n",
    "\n",
    "df[\"Title\"].value_counts()"
   ]
  },
  {
   "cell_type": "code",
   "execution_count": 10,
   "metadata": {},
   "outputs": [],
   "source": [
    "# Family size\n",
    "# Let's try to know the size of the family at which belong each passenger \n",
    "df[\"Family_size\"] = df[\"SibSp\"] + df[\"Parch\"] + 1"
   ]
  },
  {
   "cell_type": "code",
   "execution_count": 11,
   "metadata": {},
   "outputs": [],
   "source": [
    "def family_range(val):\n",
    "    if val== 1:\n",
    "        return \"Alone\"\n",
    "    elif val > 1 and val < 5:\n",
    "        return \"Small\"\n",
    "    else:\n",
    "        return \"Large\"\n",
    "\n",
    "df[\"Family_size\"] = df[\"Family_size\"].apply(family_range)"
   ]
  },
  {
   "cell_type": "code",
   "execution_count": 12,
   "metadata": {},
   "outputs": [],
   "source": [
    "# Removing of useless variable\n",
    "df.drop(columns=[\"Name\", \"Ticket\", \"SibSp\", \"Parch\"], inplace=True) "
   ]
  },
  {
   "cell_type": "code",
   "execution_count": 13,
   "metadata": {},
   "outputs": [
    {
     "name": "stdout",
     "output_type": "stream",
     "text": [
      "<class 'pandas.core.frame.DataFrame'>\n",
      "Index: 1307 entries, 1 to 1309\n",
      "Data columns (total 8 columns):\n",
      " #   Column       Non-Null Count  Dtype  \n",
      "---  ------       --------------  -----  \n",
      " 0   Survived     889 non-null    float64\n",
      " 1   Pclass       1307 non-null   object \n",
      " 2   Sex          1307 non-null   object \n",
      " 3   Age          1307 non-null   float64\n",
      " 4   Fare         1307 non-null   float64\n",
      " 5   Embarked     1307 non-null   object \n",
      " 6   Title        1307 non-null   object \n",
      " 7   Family_size  1307 non-null   object \n",
      "dtypes: float64(3), object(5)\n",
      "memory usage: 91.9+ KB\n"
     ]
    }
   ],
   "source": [
    "df.info()"
   ]
  },
  {
   "cell_type": "code",
   "execution_count": 14,
   "metadata": {},
   "outputs": [
    {
     "data": {
      "text/html": [
       "<div>\n",
       "<style scoped>\n",
       "    .dataframe tbody tr th:only-of-type {\n",
       "        vertical-align: middle;\n",
       "    }\n",
       "\n",
       "    .dataframe tbody tr th {\n",
       "        vertical-align: top;\n",
       "    }\n",
       "\n",
       "    .dataframe thead th {\n",
       "        text-align: right;\n",
       "    }\n",
       "</style>\n",
       "<table border=\"1\" class=\"dataframe\">\n",
       "  <thead>\n",
       "    <tr style=\"text-align: right;\">\n",
       "      <th></th>\n",
       "      <th>Survived</th>\n",
       "      <th>Pclass</th>\n",
       "      <th>Sex</th>\n",
       "      <th>Age</th>\n",
       "      <th>Fare</th>\n",
       "      <th>Embarked</th>\n",
       "      <th>Title</th>\n",
       "      <th>Family_size</th>\n",
       "    </tr>\n",
       "    <tr>\n",
       "      <th>PassengerId</th>\n",
       "      <th></th>\n",
       "      <th></th>\n",
       "      <th></th>\n",
       "      <th></th>\n",
       "      <th></th>\n",
       "      <th></th>\n",
       "      <th></th>\n",
       "      <th></th>\n",
       "    </tr>\n",
       "  </thead>\n",
       "  <tbody>\n",
       "    <tr>\n",
       "      <th>1180</th>\n",
       "      <td>NaN</td>\n",
       "      <td>3</td>\n",
       "      <td>male</td>\n",
       "      <td>28.0</td>\n",
       "      <td>7.2292</td>\n",
       "      <td>C</td>\n",
       "      <td>Mr</td>\n",
       "      <td>Alone</td>\n",
       "    </tr>\n",
       "    <tr>\n",
       "      <th>967</th>\n",
       "      <td>NaN</td>\n",
       "      <td>1</td>\n",
       "      <td>male</td>\n",
       "      <td>32.5</td>\n",
       "      <td>211.5000</td>\n",
       "      <td>C</td>\n",
       "      <td>Mr</td>\n",
       "      <td>Alone</td>\n",
       "    </tr>\n",
       "    <tr>\n",
       "      <th>103</th>\n",
       "      <td>0.0</td>\n",
       "      <td>1</td>\n",
       "      <td>male</td>\n",
       "      <td>21.0</td>\n",
       "      <td>77.2875</td>\n",
       "      <td>S</td>\n",
       "      <td>Mr</td>\n",
       "      <td>Small</td>\n",
       "    </tr>\n",
       "    <tr>\n",
       "      <th>360</th>\n",
       "      <td>1.0</td>\n",
       "      <td>3</td>\n",
       "      <td>female</td>\n",
       "      <td>28.0</td>\n",
       "      <td>7.8792</td>\n",
       "      <td>Q</td>\n",
       "      <td>Miss</td>\n",
       "      <td>Alone</td>\n",
       "    </tr>\n",
       "    <tr>\n",
       "      <th>720</th>\n",
       "      <td>0.0</td>\n",
       "      <td>3</td>\n",
       "      <td>male</td>\n",
       "      <td>33.0</td>\n",
       "      <td>7.7750</td>\n",
       "      <td>S</td>\n",
       "      <td>Mr</td>\n",
       "      <td>Alone</td>\n",
       "    </tr>\n",
       "    <tr>\n",
       "      <th>740</th>\n",
       "      <td>0.0</td>\n",
       "      <td>3</td>\n",
       "      <td>male</td>\n",
       "      <td>28.0</td>\n",
       "      <td>7.8958</td>\n",
       "      <td>S</td>\n",
       "      <td>Mr</td>\n",
       "      <td>Alone</td>\n",
       "    </tr>\n",
       "    <tr>\n",
       "      <th>125</th>\n",
       "      <td>0.0</td>\n",
       "      <td>1</td>\n",
       "      <td>male</td>\n",
       "      <td>54.0</td>\n",
       "      <td>77.2875</td>\n",
       "      <td>S</td>\n",
       "      <td>Mr</td>\n",
       "      <td>Small</td>\n",
       "    </tr>\n",
       "  </tbody>\n",
       "</table>\n",
       "</div>"
      ],
      "text/plain": [
       "             Survived Pclass     Sex   Age      Fare Embarked Title  \\\n",
       "PassengerId                                                           \n",
       "1180              NaN      3    male  28.0    7.2292        C    Mr   \n",
       "967               NaN      1    male  32.5  211.5000        C    Mr   \n",
       "103               0.0      1    male  21.0   77.2875        S    Mr   \n",
       "360               1.0      3  female  28.0    7.8792        Q  Miss   \n",
       "720               0.0      3    male  33.0    7.7750        S    Mr   \n",
       "740               0.0      3    male  28.0    7.8958        S    Mr   \n",
       "125               0.0      1    male  54.0   77.2875        S    Mr   \n",
       "\n",
       "            Family_size  \n",
       "PassengerId              \n",
       "1180              Alone  \n",
       "967               Alone  \n",
       "103               Small  \n",
       "360               Alone  \n",
       "720               Alone  \n",
       "740               Alone  \n",
       "125               Small  "
      ]
     },
     "execution_count": 14,
     "metadata": {},
     "output_type": "execute_result"
    }
   ],
   "source": [
    "df.sample(7)"
   ]
  },
  {
   "cell_type": "markdown",
   "metadata": {},
   "source": [
    "##### Visualization"
   ]
  },
  {
   "cell_type": "code",
   "execution_count": 15,
   "metadata": {},
   "outputs": [
    {
     "data": {
      "text/html": [
       "<div>\n",
       "<style scoped>\n",
       "    .dataframe tbody tr th:only-of-type {\n",
       "        vertical-align: middle;\n",
       "    }\n",
       "\n",
       "    .dataframe tbody tr th {\n",
       "        vertical-align: top;\n",
       "    }\n",
       "\n",
       "    .dataframe thead th {\n",
       "        text-align: right;\n",
       "    }\n",
       "</style>\n",
       "<table border=\"1\" class=\"dataframe\">\n",
       "  <thead>\n",
       "    <tr style=\"text-align: right;\">\n",
       "      <th></th>\n",
       "      <th>Age</th>\n",
       "      <th>Fare</th>\n",
       "    </tr>\n",
       "  </thead>\n",
       "  <tbody>\n",
       "    <tr>\n",
       "      <th>count</th>\n",
       "      <td>1307.000000</td>\n",
       "      <td>1307.000000</td>\n",
       "    </tr>\n",
       "    <tr>\n",
       "      <th>mean</th>\n",
       "      <td>29.471821</td>\n",
       "      <td>33.219515</td>\n",
       "    </tr>\n",
       "    <tr>\n",
       "      <th>std</th>\n",
       "      <td>12.881592</td>\n",
       "      <td>51.746413</td>\n",
       "    </tr>\n",
       "    <tr>\n",
       "      <th>min</th>\n",
       "      <td>0.170000</td>\n",
       "      <td>0.000000</td>\n",
       "    </tr>\n",
       "    <tr>\n",
       "      <th>25%</th>\n",
       "      <td>22.000000</td>\n",
       "      <td>7.895800</td>\n",
       "    </tr>\n",
       "    <tr>\n",
       "      <th>50%</th>\n",
       "      <td>28.000000</td>\n",
       "      <td>14.454200</td>\n",
       "    </tr>\n",
       "    <tr>\n",
       "      <th>75%</th>\n",
       "      <td>35.000000</td>\n",
       "      <td>31.275000</td>\n",
       "    </tr>\n",
       "    <tr>\n",
       "      <th>max</th>\n",
       "      <td>80.000000</td>\n",
       "      <td>512.329200</td>\n",
       "    </tr>\n",
       "  </tbody>\n",
       "</table>\n",
       "</div>"
      ],
      "text/plain": [
       "               Age         Fare\n",
       "count  1307.000000  1307.000000\n",
       "mean     29.471821    33.219515\n",
       "std      12.881592    51.746413\n",
       "min       0.170000     0.000000\n",
       "25%      22.000000     7.895800\n",
       "50%      28.000000    14.454200\n",
       "75%      35.000000    31.275000\n",
       "max      80.000000   512.329200"
      ]
     },
     "execution_count": 15,
     "metadata": {},
     "output_type": "execute_result"
    }
   ],
   "source": [
    "# Statistic summarize\n",
    "df.drop(columns=\"Survived\").describe()"
   ]
  },
  {
   "cell_type": "code",
   "execution_count": 16,
   "metadata": {},
   "outputs": [
    {
     "data": {
      "image/png": "[encoded data removed]",
      "text/plain": [
       "<Figure size 1000x600 with 2 Axes>"
      ]
     },
     "metadata": {},
     "output_type": "display_data"
    }
   ],
   "source": [
    "# Histogram\n",
    "plt.figure(figsize=(10,6))\n",
    "var = df.drop(columns=\"Survived\").select_dtypes(\"number\").columns\n",
    "for i, j in enumerate(var, 1):\n",
    "    plt.subplot(2,2,i)\n",
    "    sns.histplot(df[j], kde=True, bins=20)\n",
    "    plt.xlabel(j)\n",
    "    plt.ylabel(\"Count\")"
   ]
  },
  {
   "cell_type": "code",
   "execution_count": 17,
   "metadata": {},
   "outputs": [
    {
     "data": {
      "text/plain": [
       "Text(0.5, 1.0, 'Proportion of males and females on the Titanic')"
      ]
     },
     "execution_count": 17,
     "metadata": {},
     "output_type": "execute_result"
    },
    {
     "data": {
      "image/png": "[encoded data removed]",
      "text/plain": [
       "<Figure size 640x480 with 1 Axes>"
      ]
     },
     "metadata": {},
     "output_type": "display_data"
    }
   ],
   "source": [
    "# Proportion of males and females on the titanic\n",
    "ax = (df[\"Sex\"].value_counts(normalize=True)*100).plot(kind=\"bar\",color=[\"blue\",\"pink\"])\n",
    "ax.bar_label(ax.containers[0], fmt='%.3f%%')\n",
    "ax.set_xticklabels(['male', 'female'],rotation=0)\n",
    "plt.ylabel(\"percentage\")\n",
    "plt.xlabel(\"Sex\")\n",
    "plt.title(\"Proportion of males and females on the Titanic\")"
   ]
  },
  {
   "cell_type": "code",
   "execution_count": 18,
   "metadata": {},
   "outputs": [
    {
     "data": {
      "text/plain": [
       "Text(0.5, 1.0, 'Proportion of survival on the titanic')"
      ]
     },
     "execution_count": 18,
     "metadata": {},
     "output_type": "execute_result"
    },
    {
     "data": {
      "image/png": "[encoded data removed]",
      "text/plain": [
       "<Figure size 640x480 with 1 Axes>"
      ]
     },
     "metadata": {},
     "output_type": "display_data"
    }
   ],
   "source": [
    "# Proportion of survival on the titanic\n",
    "ax = (df[\"Survived\"].value_counts(normalize=True)*100).plot(kind=\"bar\", color = [\"red\", \"green\"])\n",
    "ax.bar_label(ax.containers[0], fmt=\"%.3f%%\")\n",
    "ax.set_xticklabels(['Not survived', 'Survived'], rotation=0)\n",
    "plt.ylabel(\"percentage\")\n",
    "plt.title(\"Proportion of survival on the titanic\")\n",
    "\n",
    "# Based on the part of the information (train set) that we have for the moment, we assumed that around\n",
    "# 61.75% of people present on the titanic did not survived against 38.245% who did.\n"
   ]
  },
  {
   "cell_type": "code",
   "execution_count": 19,
   "metadata": {},
   "outputs": [
    {
     "data": {
      "text/plain": [
       "Text(0.5, 1.0, 'Comparison between age based on the survival')"
      ]
     },
     "execution_count": 19,
     "metadata": {},
     "output_type": "execute_result"
    },
    {
     "data": {
      "image/png": "[encoded data removed]",
      "text/plain": [
       "<Figure size 640x480 with 1 Axes>"
      ]
     },
     "metadata": {},
     "output_type": "display_data"
    }
   ],
   "source": [
    "# Boxplot\n",
    "sns.boxplot(x=df[\"Survived\"], y=df[\"Age\"], showmeans=True)\n",
    "plt.title(\"Comparison between age based on the survival\")\n",
    "\n",
    "# This picture shows a comparison between age of survived people and those don't. Interesting fact is\n",
    "# that the mean is almost equal for each category."
   ]
  },
  {
   "cell_type": "code",
   "execution_count": 20,
   "metadata": {},
   "outputs": [
    {
     "data": {
      "text/plain": [
       "Text(0.5, 1.0, 'Comparison between Fares based on Embarkation point')"
      ]
     },
     "execution_count": 20,
     "metadata": {},
     "output_type": "execute_result"
    },
    {
     "data": {
      "image/png": "[encoded data removed]",
      "text/plain": [
       "<Figure size 640x480 with 1 Axes>"
      ]
     },
     "metadata": {},
     "output_type": "display_data"
    }
   ],
   "source": [
    "# Boxplot\n",
    "sns.boxplot(x=df[\"Embarked\"], y=df[\"Fare\"], showmeans = True)\n",
    "plt.title(\"Comparison between Fares based on Embarkation point\")\n",
    "\n",
    "# This picture shows a comparison between Fares based on the embarkation point. We noticed that people\n",
    "# from embarkation point C paid in mean more than people from others embarkation point. We deduced that \n",
    "# embarkation point C is a rich place."
   ]
  },
  {
   "cell_type": "code",
   "execution_count": 21,
   "metadata": {},
   "outputs": [
    {
     "name": "stdout",
     "output_type": "stream",
     "text": [
      "Survived  0.0  1.0\n",
      "Embarked          \n",
      "C          75   93\n",
      "Q          47   30\n",
      "S         427  217\n",
      "--------\n",
      "Survived        0.0        1.0\n",
      "Embarked                      \n",
      "C         44.642857  55.357143\n",
      "Q         61.038961  38.961039\n",
      "S         66.304348  33.695652\n"
     ]
    },
    {
     "data": {
      "text/plain": [
       "Text(0.5, 1.0, 'Percentage of survival based on the embarkation point')"
      ]
     },
     "execution_count": 21,
     "metadata": {},
     "output_type": "execute_result"
    },
    {
     "data": {
      "image/png": "[encoded data removed]",
      "text/plain": [
       "<Figure size 640x480 with 1 Axes>"
      ]
     },
     "metadata": {},
     "output_type": "display_data"
    }
   ],
   "source": [
    "# Contingency table (survival based on the embarkation point)\n",
    "print(pd.crosstab(df[\"Embarked\"], df[\"Survived\"]))\n",
    "print(\"--------\")\n",
    "table = pd.crosstab(df[\"Embarked\"], df[\"Survived\"], normalize=\"index\") * 100\n",
    "print(table)\n",
    "table.plot(kind='bar', stacked=True)\n",
    "plt.ylabel(\"percentage\")\n",
    "plt.title(\"Percentage of survival based on the embarkation point\")\n",
    "\n",
    "#  Based on the information that we have for the moment, stats shows that survival based on the \n",
    "# embarkation point gives an advantage to embarkation point C. Let's perform statistical tests to be sure \n",
    "# of that."
   ]
  },
  {
   "cell_type": "code",
   "execution_count": 22,
   "metadata": {},
   "outputs": [],
   "source": [
    "# Definition of a function for running the proportion test\n",
    "def comparison_proportion(count1, count2, nobs1, nobs2):\n",
    "    \"\"\"\n",
    "    Compare the proportions of two groups using the p-value.\n",
    "\n",
    "    Parameters:\n",
    "    count1 (int): Number of successes in the first group.\n",
    "    nobs1 (int): Total number of observations in the first group.\n",
    "    count2 (int): Number of successes in the second group.\n",
    "    nobs2 (int): Total number of observations in the second group.\n",
    "\n",
    "    Returns:\n",
    "    p-value of the z-test.\n",
    "    \"\"\"\n",
    "    import statsmodels.api as sm\n",
    "    count = [count1, count2]\n",
    "    nobs = [nobs1, nobs2]\n",
    "    statz, pval = sm.stats.proportions_ztest(count, nobs, alternative='smaller')\n",
    "    \n",
    "    return pval\n"
   ]
  },
  {
   "cell_type": "code",
   "execution_count": 23,
   "metadata": {},
   "outputs": [
    {
     "name": "stdout",
     "output_type": "stream",
     "text": [
      "1st hyp 0.9914097035993951\n",
      "2nd hyp 0.9999998674654397\n",
      "3rd hyp 0.008590296400604963\n",
      "4th hyp 0.17875276328443312\n",
      "5th hyp 0.8212472367155669\n"
     ]
    }
   ],
   "source": [
    "# Hypothesis tests\n",
    "\n",
    "# Let's do a proportion test in order to see if the difference between survival proportion is significative \n",
    "# Let P1 the survival proportion for embarkation point C \n",
    "# Let P2 the survival proportion for embarkation point Q \n",
    "# Let P3 the survival proportion for embarkation point S\n",
    "# \n",
    "# 1st Hypothesis: \n",
    "# H0: P1=P2 vs H1: P1 > P2\n",
    "print(\"1st hyp\",comparison_proportion(93,30,(93+75),(30+47)))\n",
    "\n",
    "# p-value > 0.05, then survival proportion of the embarkation point C is not greater than those of the\n",
    "# point Q. We are in all cases except those where P1 > P2.\n",
    "\n",
    "# 2nd Hypothesis:\n",
    "# H0: P1=P3 vs H1: P1 > P3\n",
    "print(\"2nd hyp\",comparison_proportion(93,217,(93+75),(217+427)))\n",
    "# p-value > 0.05, then survival proportion of the embarkation point C is not greater than those of the\n",
    "# point S. We are in all cases except those where P1 > P3.\n",
    "\n",
    "# 3rd Hypothesis:\n",
    "# H0: P2=P1 vs H1: P2 > P1\n",
    "print(\"3rd hyp\",comparison_proportion(30,93,(30+47),(93+75)))\n",
    "# p-value < 0.05, then survival proportion of the embarkation point Q is greater than those of the \n",
    "# point C.\n",
    "\n",
    "# 4th hypothesis:\n",
    "# H0: P3=P2 vs H1: P3 > P2\n",
    "print(\"4th hyp\",comparison_proportion(217,30,(217+427),(30+47)))\n",
    "# p-value > 0.05, then survival proportion of the embarkation point S is not greater than those of the\n",
    "# point Q. We are in all cases except those where P3 > P2.\n",
    "\n",
    "# 5th hypothesis:\n",
    "# H0: P2=P3 vs H1: P2 > P3\n",
    "print(\"5th hyp\",comparison_proportion(30,217,(30+47),(217+427)))\n",
    "# p-value > 0.05, then survival proportion of the embarkation point Q is not greater than those of the\n",
    "# point S. We are in all cases except those where P2 > P3. Based on the 4th and 5th hypotheses we conclude\n",
    "# survival proportion of the embarkation point Q and survival proportion of the embarkation point S are the\n",
    "# same\n",
    "\n",
    "# Hence (S,Q) > C"
   ]
  },
  {
   "cell_type": "code",
   "execution_count": 24,
   "metadata": {},
   "outputs": [
    {
     "name": "stdout",
     "output_type": "stream",
     "text": [
      "Survived  0.0  1.0\n",
      "Pclass            \n",
      "1          80  134\n",
      "2          97   87\n",
      "3         372  119\n",
      "--------\n",
      "Survived        0.0        1.0\n",
      "Pclass                        \n",
      "1         37.383178  62.616822\n",
      "2         52.717391  47.282609\n",
      "3         75.763747  24.236253\n"
     ]
    },
    {
     "data": {
      "text/plain": [
       "Text(0.5, 1.0, 'Percentage of survival based on the ticket class')"
      ]
     },
     "execution_count": 24,
     "metadata": {},
     "output_type": "execute_result"
    },
    {
     "data": {
      "image/png": "[encoded data removed]",
      "text/plain": [
       "<Figure size 640x480 with 1 Axes>"
      ]
     },
     "metadata": {},
     "output_type": "display_data"
    }
   ],
   "source": [
    "# Contingency table (survival based on the ticket class)\n",
    "print(pd.crosstab(df[\"Pclass\"], df[\"Survived\"]))\n",
    "print(\"--------\")\n",
    "table = pd.crosstab(df[\"Pclass\"], df[\"Survived\"], normalize=\"index\") * 100\n",
    "print(table)\n",
    "table.plot(kind='bar', stacked=True, color=[\"orange\", \"green\"])\n",
    "plt.ylabel(\"percentage\")\n",
    "plt.title(\"Percentage of survival based on the ticket class\")\n",
    "\n",
    "# Stats shows that survival based on the ticket class gives an advantage to first class ticket. Those who \n",
    "# paid more have augmented their survival chance. Let's perform statistical tests to be sure of that."
   ]
  },
  {
   "cell_type": "code",
   "execution_count": 25,
   "metadata": {},
   "outputs": [
    {
     "name": "stdout",
     "output_type": "stream",
     "text": [
      "1st hyp 0.9989271121139408\n",
      "2nd hyp 0.0010728878860591703\n",
      "3rd hyp 0.999999996482136\n",
      "4th hyp 3.517863958820269e-09\n"
     ]
    }
   ],
   "source": [
    "# Hypothesis tests\n",
    "\n",
    "# Let's do a proportion test in order to see if the difference between survival proportion is significative \n",
    "# Let P1 the survival proportion on 1st Pclass\n",
    "# Let P2 the survival proportion on 2nd Pclass \n",
    "# Let P3 the survival proportion on 3rd Pclass\n",
    "# \n",
    "# 1st Hypothesis: \n",
    "# H0: P1=P2 vs H1: P1 > P2\n",
    "print(\"1st hyp\",comparison_proportion(134,87,(134+80),(87+97)))\n",
    "# p-value > 0.05, then survival proportionon on the 1st Pclass is not greater than those on the 2nd Pclass.\n",
    "# We are in all cases except those where P1 > P2.\n",
    "\n",
    "\n",
    "# 2nd Hypothesis:\n",
    "# H0: P2=P1 vs H1: P2 > P1\n",
    "print(\"2nd hyp\",comparison_proportion(87,134,(87+97),(134+80)))\n",
    "# p-value < 0.05, then survival proportion on the 2nd Pclass is greater than those on the 1st Pclass.\n",
    "\n",
    "\n",
    "# 3rd Hypothesis:\n",
    "# H0: P2=P3 vs H1: P2 > P3\n",
    "print(\"3rd hyp\",comparison_proportion(87,119,(87+97),(119+372)))\n",
    "# p-value > 0.05, then survival proportion on the 2nd Pclass is not greater than those on the 3rd Pclass.\n",
    "# We are in all cases except those where P2 > P3.\n",
    "\n",
    "\n",
    "# 4th hypothesis:\n",
    "# H0: P3=P2 vs H1: P3 > P2\n",
    "print(\"4th hyp\",comparison_proportion(119,87,(119+372),(87+97)))\n",
    "# p-value < 0.05, then survival proportion on the 3rd Pclass is greater than those on the 2nd Pclass.\n",
    "\n",
    "# Then P2 > P1 & P3 > P2 \n",
    "\n",
    "# Hence P3 > (P1,P2). Survival based on the ticket class gives an advantage to third class ticket."
   ]
  },
  {
   "cell_type": "markdown",
   "metadata": {},
   "source": [
    "##### Modelling"
   ]
  },
  {
   "cell_type": "code",
   "execution_count": 26,
   "metadata": {},
   "outputs": [
    {
     "name": "stdout",
     "output_type": "stream",
     "text": [
      "train_shape: (889, 8)\n",
      "test_shape: (418, 7)\n"
     ]
    }
   ],
   "source": [
    "# Train and Test sets\n",
    "Train = df[~df[\"Survived\"].isna()]\n",
    "Test = df[df[\"Survived\"].isna()]\n",
    "Test.drop(columns=\"Survived\", inplace=True)\n",
    "df = Train # Rename Train in df\n",
    "\n",
    "print(\"train_shape:\", df.shape)\n",
    "print(\"test_shape:\", Test.shape)"
   ]
  },
  {
   "cell_type": "code",
   "execution_count": 27,
   "metadata": {},
   "outputs": [
    {
     "data": {
      "text/plain": [
       "Text(0.5, 1.0, 'Heatmap of correlations')"
      ]
     },
     "execution_count": 27,
     "metadata": {},
     "output_type": "execute_result"
    },
    {
     "data": {
      "image/png": "[encoded data removed]",
      "text/plain": [
       "<Figure size 640x480 with 2 Axes>"
      ]
     },
     "metadata": {},
     "output_type": "display_data"
    }
   ],
   "source": [
    "# Checking of colinearity\n",
    "cor_table = df.select_dtypes('number').drop(columns=\"Survived\").corr()\n",
    "sns.heatmap(cor_table, cmap=\"coolwarm\", linewidths=0.5, linecolor='gray')\n",
    "plt.title(\"Heatmap of correlations\")\n",
    "\n",
    "# There is not multicolinearity between explanatory variables"
   ]
  },
  {
   "cell_type": "code",
   "execution_count": 28,
   "metadata": {},
   "outputs": [
    {
     "name": "stdout",
     "output_type": "stream",
     "text": [
      "X_shape: (889, 7)\n",
      "y_shape: (889,)\n",
      "X_train_shape: (711, 7)\n",
      "y_train_shape: (711,)\n",
      "X_test_shape: (178, 7)\n",
      "y_test_shape: (178,)\n"
     ]
    }
   ],
   "source": [
    "# Cut dataset in train and test sets\n",
    "target = \"Survived\"\n",
    "X = df.drop(columns=target)\n",
    "y = df[target]\n",
    "X_train, X_test, y_train, y_test = train_test_split(X, y, test_size=0.2, random_state=42)\n",
    "print(\"X_shape:\",X.shape)\n",
    "print(\"y_shape:\",y.shape)\n",
    "print(\"X_train_shape:\",X_train.shape)\n",
    "print(\"y_train_shape:\",y_train.shape)\n",
    "print(\"X_test_shape:\",X_test.shape)\n",
    "print(\"y_test_shape:\",y_test.shape)"
   ]
  },
  {
   "cell_type": "code",
   "execution_count": 29,
   "metadata": {},
   "outputs": [],
   "source": [
    "numerical_features = X.select_dtypes('number').columns\n",
    "categorical_features = X.select_dtypes('object').columns\n",
    "\n",
    "numeric_transformer = StandardScaler()\n",
    "categorical_transformer = OneHotEncoder(drop='first') # first is used in order to avoid multicolinearity\n",
    "\n",
    "preprocessor = ColumnTransformer(\n",
    "    [\n",
    "        ('num', numeric_transformer, numerical_features),\n",
    "        ('cat', categorical_transformer, categorical_features)\n",
    "    ]\n",
    ")"
   ]
  },
  {
   "cell_type": "code",
   "execution_count": 30,
   "metadata": {},
   "outputs": [],
   "source": [
    "# Estimators to use:\n",
    "Models = [\n",
    "    # GLM\n",
    "    linear_model.LogisticRegressionCV(),\n",
    "    linear_model.PassiveAggressiveClassifier(random_state=42),\n",
    "    linear_model.RidgeClassifier(),\n",
    "    linear_model.SGDClassifier(random_state=42),\n",
    "    # ensemble models\n",
    "    ensemble.AdaBoostClassifier(random_state=42),\n",
    "    ensemble.BaggingClassifier(random_state=42),\n",
    "    ensemble.ExtraTreesClassifier(random_state=42),\n",
    "    ensemble.GradientBoostingClassifier(random_state=42),\n",
    "    ensemble.HistGradientBoostingClassifier(random_state=42),\n",
    "    ensemble.RandomForestClassifier(random_state=42),\n",
    "    #Tree\n",
    "    tree.DecisionTreeClassifier(random_state=42),\n",
    "    tree.ExtraTreeClassifier(random_state=42),\n",
    "    # SVM\n",
    "    svm.SVC(),\n",
    "    #XGBoost\n",
    "    XGBClassifier(seed=42)\n",
    "]"
   ]
  },
  {
   "cell_type": "code",
   "execution_count": 31,
   "metadata": {},
   "outputs": [],
   "source": [
    "# Training of the model\n",
    "models = []\n",
    "train_score = []\n",
    "test_score = []\n",
    "for i in Models:\n",
    "    model = Pipeline([\n",
    "        ('preprocessor', preprocessor),\n",
    "        ('classifier', i)\n",
    "    ])\n",
    "    model.fit(X_train, y_train)\n",
    "    models.append(str(i).split(\".\")[0])\n",
    "    train_score.append(model.score(X_train, y_train))\n",
    "    test_score.append(accuracy_score(y_test, model.predict(X_test)))"
   ]
  },
  {
   "cell_type": "code",
   "execution_count": 32,
   "metadata": {},
   "outputs": [
    {
     "data": {
      "text/html": [
       "<div>\n",
       "<style scoped>\n",
       "    .dataframe tbody tr th:only-of-type {\n",
       "        vertical-align: middle;\n",
       "    }\n",
       "\n",
       "    .dataframe tbody tr th {\n",
       "        vertical-align: top;\n",
       "    }\n",
       "\n",
       "    .dataframe thead th {\n",
       "        text-align: right;\n",
       "    }\n",
       "</style>\n",
       "<table border=\"1\" class=\"dataframe\">\n",
       "  <thead>\n",
       "    <tr style=\"text-align: right;\">\n",
       "      <th></th>\n",
       "      <th>Model</th>\n",
       "      <th>train_score</th>\n",
       "      <th>test_score</th>\n",
       "    </tr>\n",
       "  </thead>\n",
       "  <tbody>\n",
       "    <tr>\n",
       "      <th>3</th>\n",
       "      <td>SGDClassifier(random_state=42)</td>\n",
       "      <td>0.828411</td>\n",
       "      <td>0.831461</td>\n",
       "    </tr>\n",
       "    <tr>\n",
       "      <th>7</th>\n",
       "      <td>GradientBoostingClassifier(random_state=42)</td>\n",
       "      <td>0.907173</td>\n",
       "      <td>0.831461</td>\n",
       "    </tr>\n",
       "    <tr>\n",
       "      <th>0</th>\n",
       "      <td>LogisticRegressionCV()</td>\n",
       "      <td>0.822785</td>\n",
       "      <td>0.825843</td>\n",
       "    </tr>\n",
       "    <tr>\n",
       "      <th>2</th>\n",
       "      <td>RidgeClassifier()</td>\n",
       "      <td>0.828411</td>\n",
       "      <td>0.820225</td>\n",
       "    </tr>\n",
       "    <tr>\n",
       "      <th>4</th>\n",
       "      <td>AdaBoostClassifier(random_state=42)</td>\n",
       "      <td>0.856540</td>\n",
       "      <td>0.820225</td>\n",
       "    </tr>\n",
       "    <tr>\n",
       "      <th>12</th>\n",
       "      <td>SVC()</td>\n",
       "      <td>0.855134</td>\n",
       "      <td>0.820225</td>\n",
       "    </tr>\n",
       "    <tr>\n",
       "      <th>13</th>\n",
       "      <td>XGBClassifier(base_score=None, booster=None, c...</td>\n",
       "      <td>0.970464</td>\n",
       "      <td>0.803371</td>\n",
       "    </tr>\n",
       "    <tr>\n",
       "      <th>5</th>\n",
       "      <td>BaggingClassifier(random_state=42)</td>\n",
       "      <td>0.977496</td>\n",
       "      <td>0.786517</td>\n",
       "    </tr>\n",
       "    <tr>\n",
       "      <th>9</th>\n",
       "      <td>RandomForestClassifier(random_state=42)</td>\n",
       "      <td>0.987342</td>\n",
       "      <td>0.786517</td>\n",
       "    </tr>\n",
       "    <tr>\n",
       "      <th>8</th>\n",
       "      <td>HistGradientBoostingClassifier(random_state=42)</td>\n",
       "      <td>0.950774</td>\n",
       "      <td>0.780899</td>\n",
       "    </tr>\n",
       "    <tr>\n",
       "      <th>6</th>\n",
       "      <td>ExtraTreesClassifier(random_state=42)</td>\n",
       "      <td>0.987342</td>\n",
       "      <td>0.775281</td>\n",
       "    </tr>\n",
       "    <tr>\n",
       "      <th>1</th>\n",
       "      <td>PassiveAggressiveClassifier(random_state=42)</td>\n",
       "      <td>0.784810</td>\n",
       "      <td>0.752809</td>\n",
       "    </tr>\n",
       "    <tr>\n",
       "      <th>11</th>\n",
       "      <td>ExtraTreeClassifier(random_state=42)</td>\n",
       "      <td>0.987342</td>\n",
       "      <td>0.747191</td>\n",
       "    </tr>\n",
       "    <tr>\n",
       "      <th>10</th>\n",
       "      <td>DecisionTreeClassifier(random_state=42)</td>\n",
       "      <td>0.987342</td>\n",
       "      <td>0.724719</td>\n",
       "    </tr>\n",
       "  </tbody>\n",
       "</table>\n",
       "</div>"
      ],
      "text/plain": [
       "                                                Model  train_score  test_score\n",
       "3                      SGDClassifier(random_state=42)     0.828411    0.831461\n",
       "7         GradientBoostingClassifier(random_state=42)     0.907173    0.831461\n",
       "0                              LogisticRegressionCV()     0.822785    0.825843\n",
       "2                                   RidgeClassifier()     0.828411    0.820225\n",
       "4                 AdaBoostClassifier(random_state=42)     0.856540    0.820225\n",
       "12                                              SVC()     0.855134    0.820225\n",
       "13  XGBClassifier(base_score=None, booster=None, c...     0.970464    0.803371\n",
       "5                  BaggingClassifier(random_state=42)     0.977496    0.786517\n",
       "9             RandomForestClassifier(random_state=42)     0.987342    0.786517\n",
       "8     HistGradientBoostingClassifier(random_state=42)     0.950774    0.780899\n",
       "6               ExtraTreesClassifier(random_state=42)     0.987342    0.775281\n",
       "1        PassiveAggressiveClassifier(random_state=42)     0.784810    0.752809\n",
       "11               ExtraTreeClassifier(random_state=42)     0.987342    0.747191\n",
       "10            DecisionTreeClassifier(random_state=42)     0.987342    0.724719"
      ]
     },
     "execution_count": 32,
     "metadata": {},
     "output_type": "execute_result"
    }
   ],
   "source": [
    "# Summary of the performance\n",
    "model_summary= pd.DataFrame({\n",
    "    'Model': models,\n",
    "    'train_score': train_score,\n",
    "    'test_score': test_score})\n",
    "\n",
    "model_summary.sort_values(by=\"test_score\", ascending=False, inplace=True)\n",
    "model_summary"
   ]
  },
  {
   "cell_type": "code",
   "execution_count": 33,
   "metadata": {},
   "outputs": [],
   "source": [
    "# Selection of the 3 best estimators\n",
    "# Mod1 = SGDClassifier()\n",
    "\n",
    "# Mod2 = GradientBoostingClassifier()\n",
    "\n",
    "# Mod3 = LogisticRegressionCV()"
   ]
  },
  {
   "cell_type": "code",
   "execution_count": 34,
   "metadata": {},
   "outputs": [
    {
     "name": "stdout",
     "output_type": "stream",
     "text": [
      "Best cross-validation score: 0.832640598837782\n",
      "Best params: {'classifier__alpha': 0.001, 'classifier__eta0': 0.1, 'classifier__learning_rate': 'optimal', 'classifier__loss': 'hinge', 'classifier__n_jobs': -1, 'classifier__penalty': 'elasticnet', 'classifier__tol': 0.001}\n",
      "test score: 0.8258426966292135\n"
     ]
    }
   ],
   "source": [
    "# Tuning of hyperparameters Mod1\n",
    "Mod1 = Pipeline([\n",
    "    ('preprocessor',preprocessor),\n",
    "    ('classifier', linear_model.SGDClassifier(random_state=42))\n",
    "])\n",
    "\n",
    "param_grid = {\n",
    "    'classifier__loss': ['hinge', 'log_loss', 'perceptron'],\n",
    "    'classifier__eta0': [0.1, 0.2, 0.3],\n",
    "    'classifier__penalty': ['l2', 'l1', 'elasticnet'],\n",
    "    'classifier__alpha': [1e-4, 1e-3, 1e-2],\n",
    "    'classifier__learning_rate': ['constant', 'optimal'],\n",
    "    'classifier__n_jobs': [-1],\n",
    "    'classifier__tol': [1e-3, 1e-4, 1e-5]\n",
    "}\n",
    "\n",
    "model_sgd = GridSearchCV(Mod1, param_grid, cv=5, scoring='accuracy')\n",
    "model_sgd.fit(X_train, y_train)\n",
    "\n",
    "print(\"Best cross-validation score:\",model_sgd.best_score_)\n",
    "print(\"Best params:\", model_sgd.best_params_)\n",
    "print(\"test score:\", model_sgd.score(X_test, y_test))\n"
   ]
  },
  {
   "cell_type": "code",
   "execution_count": 35,
   "metadata": {},
   "outputs": [
    {
     "name": "stdout",
     "output_type": "stream",
     "text": [
      "Best cross-validation score: 0.8396828523589086\n",
      "Best params: {'classifier__learning_rate': 0.2, 'classifier__loss': 'exponential', 'classifier__max_depth': 3, 'classifier__min_samples_split': 2, 'classifier__n_estimators': 100, 'classifier__tol': 0.0001, 'classifier__validation_fraction': 0.1}\n",
      "test score: 0.8258426966292135\n"
     ]
    }
   ],
   "source": [
    "# Tuning of hyperparameters Mod2\n",
    "Mod2 = Pipeline([\n",
    "    ('preprocessor',preprocessor),\n",
    "    ('classifier', ensemble.GradientBoostingClassifier(random_state=42))\n",
    "])\n",
    "\n",
    "param_grid = {\n",
    "    'classifier__loss': ['log_loss','exponential'],\n",
    "    'classifier__learning_rate': [0.1, 0.2, 0.3],\n",
    "    'classifier__n_estimators': [100, 200, 300],\n",
    "    'classifier__min_samples_split': [2,3],\n",
    "    'classifier__tol': [0.0001, 0.0002, 0.0003],\n",
    "    'classifier__validation_fraction': [0.1, 0.2, 0.3],\n",
    "    'classifier__max_depth':[3,5,8]\n",
    "}\n",
    "\n",
    "model_gb = GridSearchCV(Mod2, param_grid, cv=5, scoring='accuracy')\n",
    "model_gb.fit(X_train, y_train)\n",
    "\n",
    "print(\"Best cross-validation score:\",model_gb.best_score_)\n",
    "print(\"Best params:\", model_gb.best_params_)\n",
    "print(\"test score:\", model_gb.score(X_test, y_test))"
   ]
  },
  {
   "cell_type": "code",
   "execution_count": 36,
   "metadata": {},
   "outputs": [
    {
     "name": "stdout",
     "output_type": "stream",
     "text": [
      "Best cross-validation score: 0.8312026002166848\n",
      "Best params: {'classifier__penalty': 'l2', 'classifier__random_state': 42, 'classifier__solver': 'liblinear'}\n",
      "test score: 0.8314606741573034\n"
     ]
    }
   ],
   "source": [
    "# Tuning of hyperparameters Mod3\n",
    "Mod3 = Pipeline([\n",
    "    ('preprocessor',preprocessor),\n",
    "    ('classifier',linear_model.LogisticRegressionCV())\n",
    "])\n",
    "\n",
    "param_grid = {\n",
    "    'classifier__penalty':['l1','l2','elasticnet'],\n",
    "    'classifier__solver':['liblinear', 'lbfgs', 'sag', 'saga'],\n",
    "    'classifier__random_state':[42]\n",
    "}\n",
    "\n",
    "model_lr = GridSearchCV(Mod3, param_grid, cv=5, scoring='accuracy')\n",
    "model_lr.fit(X_train, y_train)\n",
    "\n",
    "print(\"Best cross-validation score:\",model_lr.best_score_)\n",
    "print(\"Best params:\", model_lr.best_params_)\n",
    "print(\"test score:\", model_lr.score(X_test, y_test))"
   ]
  },
  {
   "cell_type": "markdown",
   "metadata": {},
   "source": [
    "Among 3 best models choosed, the one that shows best performances after hyperparameters tuning is Mod2. We are going try to predict in order to see if our predictions are good."
   ]
  },
  {
   "cell_type": "markdown",
   "metadata": {},
   "source": [
    "Same thing with gradientboosting"
   ]
  },
  {
   "cell_type": "code",
   "execution_count": 37,
   "metadata": {},
   "outputs": [],
   "source": [
    "# Prediction with gradient boosting classifier\n",
    "prediction = model_gb.predict(Test)\n",
    "prediction = prediction.astype(int)\n",
    "prediction = pd.Series(prediction, name=\"Survived\")\n",
    "index_s = pd.Series(Test.index, name=\"PassengerId\") # conversion of the index in series for the binding\n",
    "prediction = pd.concat([index_s, prediction], axis=1)\n",
    "prediction.to_csv(\"submission.csv\", index=False)"
   ]
  },
  {
   "cell_type": "markdown",
   "metadata": {},
   "source": [
    "##### Conclusion\n",
    "Depending on the point of embarkation, a passenger who boarded the Titanic at Queenstown or Southampton is more likely to survive than one who did so at Chelbourg.\n",
    "Depending on the ticket class, a passenger who paid a third class ticket is more likely to survive than one who paid a second class ticket or first class ticket. Our model that performs better is GradientBoostingClassifier."
   ]
  }
 ],
 "metadata": {
  "kernelspec": {
   "display_name": "base",
   "language": "python",
   "name": "python3"
  },
  "language_info": {
   "codemirror_mode": {
    "name": "ipython",
    "version": 3
   },
   "file_extension": ".py",
   "mimetype": "text/x-python",
   "name": "python",
   "nbconvert_exporter": "python",
   "pygments_lexer": "ipython3",
   "version": "3.11.9"
  }
 },
 "nbformat": 4,
 "nbformat_minor": 2
}
